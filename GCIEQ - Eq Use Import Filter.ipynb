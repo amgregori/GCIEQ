{
 "cells": [
  {
   "cell_type": "code",
   "execution_count": 1,
   "id": "faa69cd2-5a82-4013-91a2-690d825e84b2",
   "metadata": {},
   "outputs": [],
   "source": [
    "# 01 - Module Imports\n",
    "\n",
    "from datetime import datetime\n",
    "from datetime import date\n",
    "import os\n",
    "import pandas as pd\n",
    "\n",
    "from config import engine\n",
    "from openpyxl import load_workbook\n",
    "from sqlalchemy import create_engine"
   ]
  },
  {
   "cell_type": "code",
   "execution_count": 2,
   "id": "5b785fa8-d1b1-48e2-9378-27d934de4af4",
   "metadata": {},
   "outputs": [
    {
     "name": "stderr",
     "output_type": "stream",
     "text": [
      "C:\\Users\\agreg\\AppData\\Local\\Programs\\Python\\Python312\\Lib\\site-packages\\openpyxl\\styles\\stylesheet.py:237: UserWarning: Workbook contains no default style, apply openpyxl's default\n",
      "  warn(\"Workbook contains no default style, apply openpyxl's default\")\n"
     ]
    }
   ],
   "source": [
    "# 02 - Data Import - Equipment Usage\n",
    "\n",
    "import_file = 'TestData/Eq Usage Post - 2020.xlsx'\n",
    "\n",
    "import_df_raw = pd.read_excel(import_file)\n",
    "import_df = import_df_raw[[ 'equipment_no', 'transaction_no','date_booked', 'job_no', 'equipment_units', 'cost_code_no']].copy()\n",
    "\n",
    "today = date.today()\n",
    "import_df['date_modified'] = today"
   ]
  },
  {
   "cell_type": "code",
   "execution_count": 3,
   "id": "86dd561e-e37d-45d6-a769-a4d1b21b5482",
   "metadata": {},
   "outputs": [],
   "source": [
    " #03 - Clean Up Import Data\n",
    "\n",
    "import_df['job_no'] = import_df['job_no'].astype(str)\n",
    "import_df['cost_code_no'] = import_df['cost_code_no'].astype(str)\n",
    "import_df['cost_code_no'] = import_df['cost_code_no'].apply(lambda x: x.replace(' ', ''))\n",
    "import_df['equipment_no'] = import_df['equipment_no'].apply(lambda x: x.replace(' ', ''))\n",
    "import_df['date_booked'] = import_df['date_booked'].dt.date"
   ]
  },
  {
   "cell_type": "code",
   "execution_count": 4,
   "id": "ae1cb90b-27a7-4fb3-bfa7-7baeb67a526e",
   "metadata": {},
   "outputs": [],
   "source": [
    "# 04 - Query Transaction Numbers that Exist in the DB\n",
    "\n",
    "transaction_df_raw = pd.read_sql_table('eq_usage', engine)\n",
    "transaction_df = transaction_df_raw[['transaction_no']].copy()\n",
    "transaction_list = transaction_df['transaction_no'].unique()"
   ]
  },
  {
   "cell_type": "code",
   "execution_count": 5,
   "id": "807da04c-c774-46b6-821f-24c7afa0aacc",
   "metadata": {},
   "outputs": [
    {
     "name": "stdout",
     "output_type": "stream",
     "text": [
      "0\n"
     ]
    }
   ],
   "source": [
    "#05 - Remove import_df Rows with Transaction Numbers that Appear in the Database\n",
    "\n",
    "rows_to_drop = import_df['transaction_no'].isin(transaction_df.loc[:, 'transaction_no'])\n",
    "import_df = import_df[~rows_to_drop]\n",
    "print(len(import_df))\n"
   ]
  },
  {
   "cell_type": "code",
   "execution_count": 6,
   "id": "cc961ffb-a412-4bde-838b-3b067914d8df",
   "metadata": {},
   "outputs": [],
   "source": [
    "#06 - Add New Transactions to Database\n",
    "\n",
    "import_df.to_sql('eq_usage', engine, if_exists='append', index=False)"
   ]
  }
 ],
 "metadata": {
  "kernelspec": {
   "display_name": "Python 3 (ipykernel)",
   "language": "python",
   "name": "python3"
  },
  "language_info": {
   "codemirror_mode": {
    "name": "ipython",
    "version": 3
   },
   "file_extension": ".py",
   "mimetype": "text/x-python",
   "name": "python",
   "nbconvert_exporter": "python",
   "pygments_lexer": "ipython3",
   "version": "3.12.2"
  }
 },
 "nbformat": 4,
 "nbformat_minor": 5
}
