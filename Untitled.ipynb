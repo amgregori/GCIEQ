{
 "cells": [
  {
   "cell_type": "code",
   "execution_count": 1,
   "id": "cfd11ac8-ed92-4e5e-a4a7-d13a82e9543f",
   "metadata": {},
   "outputs": [
    {
     "ename": "ModuleNotFoundError",
     "evalue": "No module named 'pandas'",
     "output_type": "error",
     "traceback": [
      "\u001b[1;31m---------------------------------------------------------------------------\u001b[0m",
      "\u001b[1;31mModuleNotFoundError\u001b[0m                       Traceback (most recent call last)",
      "Cell \u001b[1;32mIn[1], line 1\u001b[0m\n\u001b[1;32m----> 1\u001b[0m \u001b[38;5;28;01mimport\u001b[39;00m\u001b[38;5;250m \u001b[39m\u001b[38;5;21;01mpandas\u001b[39;00m\u001b[38;5;250m \u001b[39m\u001b[38;5;28;01mas\u001b[39;00m\u001b[38;5;250m \u001b[39m\u001b[38;5;21;01mpd\u001b[39;00m\n\u001b[0;32m      2\u001b[0m \u001b[38;5;28;01mimport\u001b[39;00m\u001b[38;5;250m \u001b[39m\u001b[38;5;21;01mos\u001b[39;00m\n\u001b[0;32m      4\u001b[0m \u001b[38;5;28;01mfrom\u001b[39;00m\u001b[38;5;250m \u001b[39m\u001b[38;5;21;01msqlalchemy\u001b[39;00m\u001b[38;5;250m \u001b[39m\u001b[38;5;28;01mimport\u001b[39;00m create_engine\n",
      "\u001b[1;31mModuleNotFoundError\u001b[0m: No module named 'pandas'"
     ]
    }
   ],
   "source": [
    "import pandas as pd\n",
    "import os\n",
    "\n",
    "from sqlalchemy import create_engine\n",
    "from config import engine\n",
    "# from openpyxl import load_workbook\n",
    "\n",
    "usage_file = 'TestData/Eq Usage Post - Test.xlsx'\n",
    "\n",
    "df_read = pd.read_excel(usage_file)\n",
    "df_extr = df[[ 'equipment_no', 'sort_order_no','date_booked', 'job_no', 'equipment_units', ]].copy()\n",
    "\n",
    "df_extr"
   ]
  },
  {
   "cell_type": "code",
   "execution_count": null,
   "id": "b2a9817a-c22f-492b-8497-6476650cd37a",
   "metadata": {},
   "outputs": [],
   "source": [
    "#df = pd.read_excel(usage_file)\n",
    "\n",
    "#df_ex = df[[ 'equipment_no', 'sort_order_no','date_booked', 'job_no', 'equipment_units']].copy()\n",
    "#df_ex.columns = df_extract_raw.columns.str.replace(' ', '')\n",
    "#df_ex['equipment_no'] = df_ex['equipment_no'].apply(lambda x: x.replace(' ', ''))\n",
    "#df_ex['job_no'] = df_ex['job_no'].apply(lambda x: x.replace(' ', ''))\n",
    "\n",
    "print(df_ex)\n",
    "# cwd = os.getcwd()\n",
    "# print(cwd)"
   ]
  },
  {
   "cell_type": "code",
   "execution_count": null,
   "id": "65c59020-8a04-4dab-b94f-d0bf45f4f772",
   "metadata": {},
   "outputs": [],
   "source": [
    "#print(df_ex.loc[0, 'equipment_no']=='P55')\n",
    "#print(df_ex.loc[0, 'job_no']==901)\n"
   ]
  },
  {
   "cell_type": "code",
   "execution_count": null,
   "id": "6f030355-ab08-430c-87ce-b68a1d8c951e",
   "metadata": {},
   "outputs": [],
   "source": []
  }
 ],
 "metadata": {
  "kernelspec": {
   "display_name": "Python 3 (ipykernel)",
   "language": "python",
   "name": "python3"
  },
  "language_info": {
   "codemirror_mode": {
    "name": "ipython",
    "version": 3
   },
   "file_extension": ".py",
   "mimetype": "text/x-python",
   "name": "python",
   "nbconvert_exporter": "python",
   "pygments_lexer": "ipython3",
   "version": "3.12.2"
  }
 },
 "nbformat": 4,
 "nbformat_minor": 5
}
