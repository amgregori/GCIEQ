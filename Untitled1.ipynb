{
 "cells": [
  {
   "cell_type": "code",
   "execution_count": null,
   "id": "4977c2ae-2fcd-4128-84c5-0aaea2ad6490",
   "metadata": {},
   "outputs": [],
   "source": [
    "import pandas as pd\n",
    "import os\n",
    "\n",
    "from sqlalchemy import create_engine\n",
    "from config import engine\n",
    "# from openpyxl import load_workbook\n",
    "\n",
    "usage_file = 'TestData/Eq Usage Post - Test.xlsx'\n",
    "\n",
    "df_read = pd.read_excel(usage_file)\n",
    "df_extr = df[[ 'equipment_no', 'sort_order_no','date_booked', 'job_no', 'equipment_units', ]].copy()\n",
    "\n",
    "df_extr"
   ]
  }
 ],
 "metadata": {
  "kernelspec": {
   "display_name": "Python 3 (ipykernel)",
   "language": "python",
   "name": "python3"
  },
  "language_info": {
   "codemirror_mode": {
    "name": "ipython",
    "version": 3
   },
   "file_extension": ".py",
   "mimetype": "text/x-python",
   "name": "python",
   "nbconvert_exporter": "python",
   "pygments_lexer": "ipython3",
   "version": "3.12.2"
  }
 },
 "nbformat": 4,
 "nbformat_minor": 5
}
