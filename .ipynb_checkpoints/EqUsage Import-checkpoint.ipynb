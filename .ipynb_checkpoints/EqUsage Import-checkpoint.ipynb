{
 "cells": [
  {
   "cell_type": "code",
   "execution_count": 1,
   "id": "7b359cfc-d4a3-4f05-bc3a-7907d231dddf",
   "metadata": {},
   "outputs": [],
   "source": [
    "import pandas as pd\n",
    "import os\n",
    "from datetime import datetime\n",
    "from datetime import date\n",
    "\n",
    "from sqlalchemy import create_engine\n",
    "from config import engine\n",
    "from openpyxl import load_workbook\n",
    "\n",
    "\n",
    "UF_02 = 'TestData/Eq Usage Post - 2022.xlsx'\n",
    "\n",
    "\n",
    "DF_02 = pd.read_excel(UF_02)\n",
    "\n",
    "DF_02EX = DF_02[[ 'equipment_no', 'transaction_no','date_booked', 'job_no', 'equipment_units', 'cost_code_no']].copy()\n",
    "DF_02EX['cost_code_no'] = DF_02EX['cost_code_no'].astype(str)\n",
    "DF_02EX['job_no'] = DF_02EX['job_no'].astype(str)\n",
    "\n",
    "\n",
    "today = date.today()\n",
    "DF_02EX['date_modified'] = today\n",
    "DF_02EX['dataset'] = 'import'\n"
   ]
  },
  {
   "cell_type": "code",
   "execution_count": 2,
   "id": "d20a164d-260d-4465-8be6-ebdb7ea31bc9",
   "metadata": {},
   "outputs": [],
   "source": [
    "#DF_02EX.to_sql('eq_usage', engine, if_exists='append', index=False)"
   ]
  },
  {
   "cell_type": "code",
   "execution_count": 3,
   "id": "f3a6f92d-7c31-4cb6-8592-585b3b044ac6",
   "metadata": {},
   "outputs": [],
   "source": [
    "DF_EXTG = pd.read_sql_table('eq_usage', engine)\n",
    "DF_EXTG['cost_code_no'] = DF_EXTG['cost_code_no'].astype(str)\n",
    "DF_EXTG['job_no'] = DF_EXTG['job_no'].astype(str)\n",
    "DF_EXTG.drop('id', axis=1, inplace=True)\n",
    "#DF_EXTG.drop('date_modified', axis=1, inplace=True)\n",
    "DF_EXTG['dataset'] = 'database'\n",
    "\n"
   ]
  },
  {
   "cell_type": "code",
   "execution_count": 4,
   "id": "138135af-1d2c-45f4-977c-8f975868e61d",
   "metadata": {},
   "outputs": [
    {
     "name": "stdout",
     "output_type": "stream",
     "text": [
      "30004\n",
      "\n",
      "61\n",
      "\n",
      "equipment_no        True\n",
      "transaction_no      True\n",
      "date_booked         True\n",
      "job_no              True\n",
      "equipment_units     True\n",
      "cost_code_no        True\n",
      "date_modified      False\n",
      "dataset            False\n",
      "Name: 0, dtype: bool\n",
      "Index(['equipment_no', 'transaction_no', 'date_booked', 'job_no',\n",
      "       'equipment_units', 'cost_code_no', 'date_modified', 'dataset'],\n",
      "      dtype='object')\n",
      "\n",
      "\n",
      "Index(['equipment_no', 'transaction_no', 'date_booked', 'job_no',\n",
      "       'equipment_units', 'cost_code_no', 'date_modified', 'dataset'],\n",
      "      dtype='object')\n"
     ]
    }
   ],
   "source": [
    "merge = pd.concat([DF_02EX, DF_EXTG])\n",
    "print(len(merge))\n",
    "print()\n",
    "\n",
    "merge.drop_duplicates(subset=['transaction_no'], inplace=True)\n",
    "print(len(merge))\n",
    "print()\n",
    "\n",
    "print(merge.loc[0] == DF_EXTG.loc[0])\n",
    "print(merge.columns)\n",
    "print()\n",
    "print()\n",
    "print(DF_EXTG.columns)\n",
    "\n",
    "\n",
    "\n",
    "\n",
    "\n"
   ]
  },
  {
   "cell_type": "code",
   "execution_count": null,
   "id": "384cc8be-9a80-48fb-ac63-98c3b9d07b33",
   "metadata": {},
   "outputs": [],
   "source": []
  },
  {
   "cell_type": "code",
   "execution_count": 5,
   "id": "1d043b2b-3fe1-4e36-ae90-c96d537f9b34",
   "metadata": {},
   "outputs": [],
   "source": [
    "\n",
    "#DF_ADD['date_modified'] = today\n",
    "\n",
    "#DF_ADD.to_sql('eq_usage', engine, if_exists='append', index=False)"
   ]
  }
 ],
 "metadata": {
  "kernelspec": {
   "display_name": "Python 3 (ipykernel)",
   "language": "python",
   "name": "python3"
  },
  "language_info": {
   "codemirror_mode": {
    "name": "ipython",
    "version": 3
   },
   "file_extension": ".py",
   "mimetype": "text/x-python",
   "name": "python",
   "nbconvert_exporter": "python",
   "pygments_lexer": "ipython3",
   "version": "3.12.2"
  }
 },
 "nbformat": 4,
 "nbformat_minor": 5
}
