{
 "cells": [
  {
   "cell_type": "code",
   "execution_count": 1,
   "id": "4977c2ae-2fcd-4128-84c5-0aaea2ad6490",
   "metadata": {},
   "outputs": [],
   "source": [
    "import pandas as pd\n",
    "import os\n",
    "from datetime import datetime\n",
    "from datetime import date\n",
    "\n",
    "from sqlalchemy import create_engine\n",
    "from config import engine\n",
    "from openpyxl import load_workbook\n",
    "\n",
    "usage_file = 'TestData/Eq Usage Post - 2024.xlsx'\n",
    "\n",
    "df_read = pd.read_excel(usage_file)\n",
    "df_extr = df_read[[ 'equipment_no', 'transaction_no','date_booked', 'job_no', 'equipment_units', 'cost_code_no']].copy()\n",
    "\n",
    "today = date.today()\n",
    "df_extr['date_modified'] = today\n",
    "# print(df_extr)\n"
   ]
  },
  {
   "cell_type": "code",
   "execution_count": 2,
   "id": "77074531-36aa-41bc-b242-88d2e672e08e",
   "metadata": {},
   "outputs": [
    {
     "data": {
      "text/plain": [
       "16773"
      ]
     },
     "execution_count": 2,
     "metadata": {},
     "output_type": "execute_result"
    }
   ],
   "source": [
    "df_extr['equipment_no'] = df_extr['equipment_no'].apply(lambda x: x.replace(' ', ''))\n",
    "df_extr['cost_code_no'] = df_extr['cost_code_no'].apply(lambda x: x.replace(' ', ''))\n",
    "df_extr['date_booked'] = df_extr['date_booked'].dt.date\n",
    "df_extr['job_no'] = df_extr['job_no'].astype(str)\n",
    "\n",
    "\n",
    "\n",
    "\n",
    "\n",
    "#df_extr.to_sql('eq_usage', engine, if_exists='append', index=False)"
   ]
  },
  {
   "cell_type": "code",
   "execution_count": 3,
   "id": "7c77e092-ed7a-41ca-9ff1-95a5a231ef28",
   "metadata": {},
   "outputs": [],
   "source": [
    "df_extg = pd.read_sql_table('eq_usage', engine)\n",
    "df_extg['job_no'] = df_extg['job_no'].astype(str)\n",
    "df_extg['date_modified'] = df_extg['date_modified'].dt.date\n",
    "df_extg['date_booked'] = df_extg['date_booked'].dt.date\n",
    "df_extg.drop('id', axis=1, inplace=True)\n"
   ]
  },
  {
   "cell_type": "code",
   "execution_count": 4,
   "id": "8ecc46e1-4640-46d7-bc18-e5dfa9308cbf",
   "metadata": {},
   "outputs": [],
   "source": [
    "df_comb = comb_data = pd.concat([df_extg, df_extr], ignore_index=True)\n",
    "\n",
    "df_add = df_comb[~df_comb.duplicated(keep=False)] "
   ]
  },
  {
   "cell_type": "code",
   "execution_count": 5,
   "id": "79590586-a118-4bef-88b1-189e634afeb6",
   "metadata": {},
   "outputs": [
    {
     "name": "stdout",
     "output_type": "stream",
     "text": [
      "33181\n"
     ]
    }
   ],
   "source": [
    "'''\n",
    "print(df_extg.loc[5, 'equipment_no'] == df_extr.loc[5, 'equipment_no'])\n",
    "print(df_extg.loc[5, 'date_booked'] == df_extr.loc[5, 'date_booked'])\n",
    "print(df_extg.loc[5, 'date_modified'] == df_extr.loc[5, 'date_modified'])\n",
    "print(df_extg.loc[5, 'transaction_no'] == df_extr.loc[5, 'transaction_no'])\n",
    "print(df_extg.loc[5, 'cost_code_no'] == df_extr.loc[5, 'cost_code_no'])\n",
    "print(df_extg.loc[5, 'job_no'] == df_extr.loc[5, 'job_no'])\n",
    "print()\n",
    "print()\n",
    "'''\n",
    "\n",
    "print(len(df_add))"
   ]
  },
  {
   "cell_type": "code",
   "execution_count": null,
   "id": "83bde1f3-22bd-4189-a05b-a5b08a45ec1a",
   "metadata": {},
   "outputs": [],
   "source": [
    "'''\n",
    "2025-01-25 - Got the basic functionality down for equipment usage, and got 2022 - 2024 usage data into the DB. Note:\n",
    "   - Need to move the .to_sql command down to the add\n",
    "   - Need to figure out how to filter out data from INCOMING file. If we query the entire DB, all files from the DB that don't match files in the \n",
    "     incoming dataframe will get re-written. Options:\n",
    "       * only keep records from INCOMING\n",
    "       * find another way of comparing\n",
    "\n",
    "\n",
    "\n",
    "'''"
   ]
  }
 ],
 "metadata": {
  "kernelspec": {
   "display_name": "Python 3 (ipykernel)",
   "language": "python",
   "name": "python3"
  },
  "language_info": {
   "codemirror_mode": {
    "name": "ipython",
    "version": 3
   },
   "file_extension": ".py",
   "mimetype": "text/x-python",
   "name": "python",
   "nbconvert_exporter": "python",
   "pygments_lexer": "ipython3",
   "version": "3.12.2"
  }
 },
 "nbformat": 4,
 "nbformat_minor": 5
}
