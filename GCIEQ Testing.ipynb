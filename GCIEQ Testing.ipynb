{
 "cells": [
  {
   "cell_type": "code",
   "execution_count": 1,
   "id": "4977c2ae-2fcd-4128-84c5-0aaea2ad6490",
   "metadata": {},
   "outputs": [
    {
     "name": "stdout",
     "output_type": "stream",
     "text": [
      "  equipment_no  transaction_no date_booked  job_no  equipment_units  \\\n",
      "0   E39                   1344  2024-11-15  231648             3.00   \n",
      "1   P91                   1344  2024-11-15  231659             6.50   \n",
      "2   P91                   1344  2024-11-15  231659             1.50   \n",
      "3   P101                  1344  2024-11-15  231664             5.00   \n",
      "4   P76                   1344  2024-11-17  231675             0.01   \n",
      "\n",
      "   cost_code_no date_modified  \n",
      "0       6521.03    2025-01-26  \n",
      "1       1001.00    2025-01-26  \n",
      "2       3030.05    2025-01-26  \n",
      "3       1001.00    2025-01-26  \n",
      "4       1001.00    2025-01-26  \n"
     ]
    }
   ],
   "source": [
    "import pandas as pd\n",
    "import os\n",
    "from datetime import datetime\n",
    "from datetime import date\n",
    "\n",
    "from sqlalchemy import create_engine\n",
    "from config import engine\n",
    "from openpyxl import load_workbook\n",
    "\n",
    "usage_file = 'TestData/Eq Usage Post - Test.xlsx'\n",
    "\n",
    "df_read = pd.read_excel(usage_file)\n",
    "df_extr = df_read[[ 'equipment_no', 'transaction_no','date_booked', 'job_no', 'equipment_units', 'cost_code_no']].copy()\n",
    "\n",
    "today = date.today()\n",
    "df_extr['date_modified'] = today\n",
    "print(df_extr)\n"
   ]
  },
  {
   "cell_type": "code",
   "execution_count": 2,
   "id": "77074531-36aa-41bc-b242-88d2e672e08e",
   "metadata": {},
   "outputs": [],
   "source": [
    "df_extr['job_no'] = df_extr['job_no'].astype(str)\n",
    "\n",
    "df_extr['cost_code_no'] = df_extr['cost_code_no'].astype(str)\n",
    "df_extr['cost_code_no'] = df_extr['cost_code_no'].apply(lambda x: x.replace(' ', ''))\n",
    "\n",
    "df_extr['equipment_no'] = df_extr['equipment_no'].apply(lambda x: x.replace(' ', ''))\n",
    "\n",
    "df_extr['date_booked'] = df_extr['date_booked'].dt.date\n",
    "\n",
    "\n",
    "\n",
    "\n",
    "\n",
    "\n",
    "#df_extr.to_sql('eq_usage', engine, if_exists='append', index=False)"
   ]
  },
  {
   "cell_type": "code",
   "execution_count": 3,
   "id": "7c77e092-ed7a-41ca-9ff1-95a5a231ef28",
   "metadata": {},
   "outputs": [
    {
     "name": "stdout",
     "output_type": "stream",
     "text": [
      "\n",
      "\n",
      "object\n",
      "object\n",
      "\n",
      "\n",
      "equipment_no        True\n",
      "transaction_no      True\n",
      "job_no              True\n",
      "equipment_units     True\n",
      "cost_code_no       False\n",
      "date_modified       True\n",
      "dtype: bool\n",
      "      1001\n",
      "1001.0\n"
     ]
    }
   ],
   "source": [
    "df_extg = pd.read_sql_table('eq_usage', engine)\n",
    "#df_extg['job_no'] = df_extg['job_no'].astype(str)\n",
    "df_extg['cost_code_no'] = df_extg['cost_code_no'].astype(str)\n",
    "\n",
    "df_extg['date_modified'] = df_extg['date_modified'].dt.date\n",
    "df_extg['date_booked'] = df_extg['date_booked'].dt.date\n",
    "df_extg.drop('id', axis=1, inplace=True)\n",
    "df_extg.drop('date_booked', axis=1, inplace=True)\n",
    "df_extr.drop('date_booked', axis=1, inplace=True)\n",
    "\n",
    "# df_add = df_extr.drop_duplicates(subset=df_extg.columns.tolist(), keep=False)\n",
    "#df_add = df_extr[~df_extr[['equipment_no']].isin(df_extg[['equipment_no']]).all(axis=1)]\n",
    "# print(len(df_add))\n",
    "df_add = df_extr.merge(df_extg, indicator=True, how='outer').query('_merge==\"left_only\"').drop('_merge', axis=1)\n",
    "#print(df_extr.loc[9, 'equipment_no'] == df_extg.loc[50650, 'equipment_no'])\n",
    "\n",
    "#print(df_extr[9])\n",
    "#print(df_extg[50650])\n",
    "\n",
    "# print(len(df_add))\n",
    "print()\n",
    "print()\n",
    "print(df_extg['cost_code_no'].dtype)\n",
    "print(df_extr['cost_code_no'].dtype)\n",
    "print()\n",
    "print()\n",
    "\n",
    "print(df_extg.iloc[50651] == df_extr.iloc[4])\n",
    "print(df_extg.loc[50651, 'cost_code_no'])\n",
    "print(df_extr.loc[4, 'cost_code_no'])\n",
    "#print(df_extg.loc[9, 'date_booked'])\n",
    "#print(df_extr.loc[9, 'date_booked'])\n"
   ]
  },
  {
   "cell_type": "code",
   "execution_count": null,
   "id": "8ecc46e1-4640-46d7-bc18-e5dfa9308cbf",
   "metadata": {},
   "outputs": [],
   "source": [
    "\n"
   ]
  },
  {
   "cell_type": "code",
   "execution_count": null,
   "id": "79590586-a118-4bef-88b1-189e634afeb6",
   "metadata": {},
   "outputs": [],
   "source": []
  },
  {
   "cell_type": "code",
   "execution_count": 4,
   "id": "83bde1f3-22bd-4189-a05b-a5b08a45ec1a",
   "metadata": {},
   "outputs": [
    {
     "data": {
      "text/plain": [
       "\"\\n2025-01-25 - Got the basic functionality down for equipment usage, and got 2022 - 2024 usage data into the DB. Note:\\n   - Need to move the .to_sql command down to the add\\n   - Need to figure out how to filter out data from INCOMING file. If we query the entire DB, all files from the DB that don't match files in the \\n     incoming dataframe will get re-written. Options:\\n       * only keep records from INCOMING\\n       * find another way of comparing\\n\\n\\n\\n\""
      ]
     },
     "execution_count": 4,
     "metadata": {},
     "output_type": "execute_result"
    }
   ],
   "source": [
    "'''\n",
    "2025-01-25 - Got the basic functionality down for equipment usage, and got 2022 - 2024 usage data into the DB. Note:\n",
    "   - Need to move the .to_sql command down to the add\n",
    "   - Need to figure out how to filter out data from INCOMING file. If we query the entire DB, all files from the DB that don't match files in the \n",
    "     incoming dataframe will get re-written. Options:\n",
    "       * only keep records from INCOMING\n",
    "       * find another way of comparing\n",
    "\n",
    "\n",
    "\n",
    "'''"
   ]
  }
 ],
 "metadata": {
  "kernelspec": {
   "display_name": "Python 3 (ipykernel)",
   "language": "python",
   "name": "python3"
  },
  "language_info": {
   "codemirror_mode": {
    "name": "ipython",
    "version": 3
   },
   "file_extension": ".py",
   "mimetype": "text/x-python",
   "name": "python",
   "nbconvert_exporter": "python",
   "pygments_lexer": "ipython3",
   "version": "3.12.2"
  }
 },
 "nbformat": 4,
 "nbformat_minor": 5
}
