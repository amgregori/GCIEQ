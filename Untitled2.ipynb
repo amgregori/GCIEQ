{
 "cells": [
  {
   "cell_type": "code",
   "execution_count": 1,
   "id": "7b359cfc-d4a3-4f05-bc3a-7907d231dddf",
   "metadata": {},
   "outputs": [],
   "source": [
    "import pandas as pd\n",
    "import os\n",
    "from datetime import datetime\n",
    "from datetime import date\n",
    "\n",
    "from sqlalchemy import create_engine\n",
    "from config import engine\n",
    "from openpyxl import load_workbook\n",
    "\n",
    "UF_01 = 'TestData/Eq Usage Post - Test.xlsx'\n",
    "UF_02 = 'TestData/Eq Usage Post - Test01.xlsx'\n",
    "\n",
    "DF_01 = pd.read_excel(UF_01)\n",
    "DF_02 = pd.read_excel(UF_02)\n",
    "DF_01EX = DF_01[[ 'equipment_no', 'transaction_no','date_booked', 'job_no', 'equipment_units', 'cost_code_no']].copy()\n",
    "DF_02EX = DF_02[[ 'equipment_no', 'transaction_no','date_booked', 'job_no', 'equipment_units', 'cost_code_no']].copy()\n",
    "DF_02EX['cost_code_no'] = DF_02EX['cost_code_no'].astype(str)\n",
    "DF_02EX['job_no'] = DF_02EX['job_no'].astype(str)\n",
    "today = date.today()\n",
    "DF_01EX['date_modified'] = today\n",
    "\n"
   ]
  },
  {
   "cell_type": "code",
   "execution_count": 2,
   "id": "d20a164d-260d-4465-8be6-ebdb7ea31bc9",
   "metadata": {},
   "outputs": [],
   "source": [
    "#DF_01EX.to_sql('eq_usage', engine, if_exists='append', index=False)"
   ]
  },
  {
   "cell_type": "code",
   "execution_count": 3,
   "id": "f3a6f92d-7c31-4cb6-8592-585b3b044ac6",
   "metadata": {},
   "outputs": [],
   "source": [
    "DF_EXTG = pd.read_sql_table('eq_usage', engine)\n",
    "DF_EXTG['cost_code_no'] = DF_EXTG['cost_code_no'].astype(str)\n",
    "DF_EXTG['job_no'] = DF_EXTG['job_no'].astype(str)\n",
    "DF_EXTG.drop('id', axis=1, inplace=True)\n",
    "DF_EXTG.drop('date_modified', axis=1, inplace=True)"
   ]
  },
  {
   "cell_type": "code",
   "execution_count": 4,
   "id": "138135af-1d2c-45f4-977c-8f975868e61d",
   "metadata": {},
   "outputs": [
    {
     "name": "stdout",
     "output_type": "stream",
     "text": [
      "equipment_no               object\n",
      "transaction_no              int64\n",
      "date_booked        datetime64[ns]\n",
      "job_no                     object\n",
      "equipment_units           float64\n",
      "cost_code_no               object\n",
      "dtype: object\n",
      "\n",
      "equipment_no               object\n",
      "transaction_no              int64\n",
      "date_booked        datetime64[ns]\n",
      "job_no                     object\n",
      "equipment_units           float64\n",
      "cost_code_no               object\n",
      "dtype: object\n",
      "\n",
      "\n"
     ]
    }
   ],
   "source": [
    "print(DF_02EX.dtypes)\n",
    "print()\n",
    "print(DF_EXTG.dtypes)\n",
    "print()\n",
    "print()"
   ]
  },
  {
   "cell_type": "code",
   "execution_count": 5,
   "id": "384cc8be-9a80-48fb-ac63-98c3b9d07b33",
   "metadata": {},
   "outputs": [
    {
     "name": "stdout",
     "output_type": "stream",
     "text": [
      "1\n"
     ]
    }
   ],
   "source": [
    "DF_ADD = DF_02EX[~DF_02EX[['transaction_no']].isin(DF_EXTG[['transaction_no']]).all(axis=1)].copy()\n",
    "print(len(DF_ADD))"
   ]
  },
  {
   "cell_type": "code",
   "execution_count": 6,
   "id": "1d043b2b-3fe1-4e36-ae90-c96d537f9b34",
   "metadata": {},
   "outputs": [
    {
     "data": {
      "text/plain": [
       "1"
      ]
     },
     "execution_count": 6,
     "metadata": {},
     "output_type": "execute_result"
    }
   ],
   "source": [
    "today = date.today()\n",
    "DF_ADD['date_modified'] = today\n",
    "\n",
    "DF_ADD.to_sql('eq_usage', engine, if_exists='append', index=False)"
   ]
  }
 ],
 "metadata": {
  "kernelspec": {
   "display_name": "Python 3 (ipykernel)",
   "language": "python",
   "name": "python3"
  },
  "language_info": {
   "codemirror_mode": {
    "name": "ipython",
    "version": 3
   },
   "file_extension": ".py",
   "mimetype": "text/x-python",
   "name": "python",
   "nbconvert_exporter": "python",
   "pygments_lexer": "ipython3",
   "version": "3.12.2"
  }
 },
 "nbformat": 4,
 "nbformat_minor": 5
}
